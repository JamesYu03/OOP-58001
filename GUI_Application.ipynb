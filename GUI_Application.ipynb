{
  "nbformat": 4,
  "nbformat_minor": 0,
  "metadata": {
    "colab": {
      "name": "GUI Application.ipynb",
      "provenance": [],
      "authorship_tag": "ABX9TyOlVXnDg6lEimxQ5nK7k3+S",
      "include_colab_link": true
    },
    "kernelspec": {
      "name": "python3",
      "display_name": "Python 3"
    },
    "language_info": {
      "name": "python"
    }
  },
  "cells": [
    {
      "cell_type": "markdown",
      "metadata": {
        "id": "view-in-github",
        "colab_type": "text"
      },
      "source": [
        "<a href=\"https://colab.research.google.com/github/JamesYu03/OOP-58001/blob/main/GUI_Application.ipynb\" target=\"_parent\"><img src=\"https://colab.research.google.com/assets/colab-badge.svg\" alt=\"Open In Colab\"/></a>"
      ]
    },
    {
      "cell_type": "markdown",
      "source": [
        "Create a Python Program that displays the grades of the students "
      ],
      "metadata": {
        "id": "_uAXhDBP_kNM"
      }
    },
    {
      "cell_type": "code",
      "execution_count": 4,
      "metadata": {
        "colab": {
          "base_uri": "https://localhost:8080/"
        },
        "id": "xO5bq-O5_bUW",
        "outputId": "19c49c14-02c5-4661-f316-de5e1d8e0150"
      },
      "outputs": [
        {
          "output_type": "stream",
          "name": "stdout",
          "text": [
            "Student_Name: James Yumang\n",
            "semestral grade of the student: 92.6\n"
          ]
        }
      ],
      "source": [
        "#@title Students Grade Object-Oriented Programming\n",
        "Student_Name =\"James Yumang\" #@param {type: \"string\"}\n",
        "prelim =  90#@param {type: \"number\"}\n",
        "midterm =  92#@param {type: \"number\"}\n",
        "Final =  95#@param {type: \"number\"}\n",
        "\n",
        "semestral = (prelim*0.30 + midterm*0.30 + Final*0.40)\n",
        "\n",
        "print(\"Student_Name: \"+Student_Name)\n",
        "print(\"semestral grade of the student: \"+str(semestral))"
      ]
    },
    {
      "cell_type": "code",
      "source": [
        "#@title Gender \n",
        "Male = False #@param{type:\"boolean\"}\n",
        "Female = False #@param{type:\"boolean\"}\n",
        "Gender = \"Male\" #@param[\"Male\", \"Female\"]\n",
        "Birthdate = '2022-03-29' #@param{type:\"date\"}\n",
        "\n",
        "print(\"My birthday is: \"+ Birthdate)\n"
      ],
      "metadata": {
        "colab": {
          "base_uri": "https://localhost:8080/"
        },
        "id": "LF1LhD0GD2Fc",
        "outputId": "8fb0c50a-ccb8-49ed-e8c9-236c7aeb1678"
      },
      "execution_count": 8,
      "outputs": [
        {
          "output_type": "stream",
          "name": "stdout",
          "text": [
            "My birthday is: 2022-03-29\n"
          ]
        }
      ]
    }
  ]
}