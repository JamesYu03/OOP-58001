{
  "nbformat": 4,
  "nbformat_minor": 0,
  "metadata": {
    "colab": {
      "name": "Untitled0.ipynb",
      "provenance": [],
      "authorship_tag": "ABX9TyOQIALY/r5pZ3P1WjpNCAfB",
      "include_colab_link": true
    },
    "kernelspec": {
      "name": "python3",
      "display_name": "Python 3"
    },
    "language_info": {
      "name": "python"
    }
  },
  "cells": [
    {
      "cell_type": "markdown",
      "metadata": {
        "id": "view-in-github",
        "colab_type": "text"
      },
      "source": [
        "<a href=\"https://colab.research.google.com/github/JamesYu03/OOP-58001/blob/main/Longquiz.ipynb\" target=\"_parent\"><img src=\"https://colab.research.google.com/assets/colab-badge.svg\" alt=\"Open In Colab\"/></a>"
      ]
    },
    {
      "cell_type": "code",
      "execution_count": 1,
      "metadata": {
        "colab": {
          "base_uri": "https://localhost:8080/"
        },
        "id": "OfbJKxch11ka",
        "outputId": "76deac3c-14e3-4c41-ece2-8433bc65aeda"
      },
      "outputs": [
        {
          "output_type": "stream",
          "name": "stdout",
          "text": [
            "10\n",
            "The perimeter of the circle is 62.800000000000004\n",
            "The area of the circle is 314.0\n"
          ]
        }
      ],
      "source": [
        "class Circle():\n",
        "  def __init__ (self, radius):\n",
        "    self.radius = int (radius)\n",
        "\n",
        "  def Perimeter (self):\n",
        "    return 2 * pi * self.radius\n",
        "  \n",
        "  def Area (self):\n",
        "    return pi * (self.radius ** 2)\n",
        "\n",
        "  def display (self):\n",
        "    print (\"The perimeter of the circle is\", self.Perimeter())\n",
        "    print (\"The area of the circle is\", self.Area())\n",
        "\n",
        "pi = 3.14\n",
        "pizza = Circle (input())\n",
        "pizza.display()"
      ]
    }
  ]
}