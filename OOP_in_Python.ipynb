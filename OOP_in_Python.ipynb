{
  "nbformat": 4,
  "nbformat_minor": 0,
  "metadata": {
    "colab": {
      "name": "OOP in Python.ipynb",
      "provenance": [],
      "authorship_tag": "ABX9TyP2W3oS1hSFlnojq07/Q7Vo",
      "include_colab_link": true
    },
    "kernelspec": {
      "name": "python3",
      "display_name": "Python 3"
    },
    "language_info": {
      "name": "python"
    }
  },
  "cells": [
    {
      "cell_type": "markdown",
      "metadata": {
        "id": "view-in-github",
        "colab_type": "text"
      },
      "source": [
        "<a href=\"https://colab.research.google.com/github/JamesYu03/OOP-58001/blob/main/OOP_in_Python.ipynb\" target=\"_parent\"><img src=\"https://colab.research.google.com/assets/colab-badge.svg\" alt=\"Open In Colab\"/></a>"
      ]
    },
    {
      "cell_type": "markdown",
      "source": [
        "Create a Class"
      ],
      "metadata": {
        "id": "eACVp6h0l3ot"
      }
    },
    {
      "cell_type": "code",
      "execution_count": 1,
      "metadata": {
        "id": "l311Rv48lkLt"
      },
      "outputs": [],
      "source": [
        "class TheCLass:\n",
        "  pass  #to create a class without method"
      ]
    },
    {
      "cell_type": "code",
      "source": [
        "class TheClass: #the name of the class \n",
        "  x=50 #the property of the class named TheClass"
      ],
      "metadata": {
        "id": "3NiiQ3o_mLaj"
      },
      "execution_count": 2,
      "outputs": []
    },
    {
      "cell_type": "code",
      "source": [
        "class Car():                       #create a class name Car\n",
        "  def __init__(self,name,color):          \n",
        "    self.name = name               #represent the instance of class name Car\n",
        "    self.color = color \n",
        "\n",
        "  def description(self):\n",
        "    return self.name, self.color \n",
        "\n",
        "  def display (self):\n",
        "    print(\"The name and color of the car\",self.description())\n",
        "\n",
        "obj1 = Car(\"Toyota\",\"black\")      #to create an object with its attribute values \n",
        "obj1.display()"
      ],
      "metadata": {
        "colab": {
          "base_uri": "https://localhost:8080/"
        },
        "id": "YpgZTcMlmhCs",
        "outputId": "a1165cb7-782b-47f4-c36a-0a633f272bef"
      },
      "execution_count": 3,
      "outputs": [
        {
          "output_type": "stream",
          "name": "stdout",
          "text": [
            "The name and color of the car ('Toyota', 'black')\n"
          ]
        }
      ]
    },
    {
      "cell_type": "markdown",
      "source": [
        "Modify and Object Property"
      ],
      "metadata": {
        "id": "JXE7bZwTn1tO"
      }
    },
    {
      "cell_type": "code",
      "source": [
        "obj1.name=\"Maserati\"\n",
        "print(obj1.name)"
      ],
      "metadata": {
        "colab": {
          "base_uri": "https://localhost:8080/"
        },
        "id": "Y_9_vlGBn9Hk",
        "outputId": "6919b975-6c64-4cb7-bcc6-e432d469f589"
      },
      "execution_count": 4,
      "outputs": [
        {
          "output_type": "stream",
          "name": "stdout",
          "text": [
            "Maserati\n"
          ]
        }
      ]
    },
    {
      "cell_type": "code",
      "source": [
        "obj1.display()"
      ],
      "metadata": {
        "colab": {
          "base_uri": "https://localhost:8080/"
        },
        "id": "f5N9iTTZokUX",
        "outputId": "d116e9f4-c1a1-4df4-fc06-549fd6157ce5"
      },
      "execution_count": 6,
      "outputs": [
        {
          "output_type": "stream",
          "name": "stdout",
          "text": [
            "The name and color of the car ('Maserati', 'black')\n"
          ]
        }
      ]
    },
    {
      "cell_type": "markdown",
      "source": [
        "Delete Object Property "
      ],
      "metadata": {
        "id": "xtYwfA_zoxVz"
      }
    },
    {
      "cell_type": "code",
      "source": [
        "del obj1.color \n",
        "obj1.display()"
      ],
      "metadata": {
        "colab": {
          "base_uri": "https://localhost:8080/",
          "height": 328
        },
        "id": "cmLCv_-bo26N",
        "outputId": "cdaa320e-a9a2-483c-bf45-afafd331f66a"
      },
      "execution_count": 7,
      "outputs": [
        {
          "output_type": "error",
          "ename": "AttributeError",
          "evalue": "ignored",
          "traceback": [
            "\u001b[0;31m---------------------------------------------------------------------------\u001b[0m",
            "\u001b[0;31mAttributeError\u001b[0m                            Traceback (most recent call last)",
            "\u001b[0;32m<ipython-input-7-1291a24f5827>\u001b[0m in \u001b[0;36m<module>\u001b[0;34m()\u001b[0m\n\u001b[1;32m      1\u001b[0m \u001b[0;32mdel\u001b[0m \u001b[0mobj1\u001b[0m\u001b[0;34m.\u001b[0m\u001b[0mcolor\u001b[0m\u001b[0;34m\u001b[0m\u001b[0;34m\u001b[0m\u001b[0m\n\u001b[0;32m----> 2\u001b[0;31m \u001b[0mobj1\u001b[0m\u001b[0;34m.\u001b[0m\u001b[0mdisplay\u001b[0m\u001b[0;34m(\u001b[0m\u001b[0;34m)\u001b[0m\u001b[0;34m\u001b[0m\u001b[0;34m\u001b[0m\u001b[0m\n\u001b[0m",
            "\u001b[0;32m<ipython-input-3-4fc4b8a6a0b3>\u001b[0m in \u001b[0;36mdisplay\u001b[0;34m(self)\u001b[0m\n\u001b[1;32m      8\u001b[0m \u001b[0;34m\u001b[0m\u001b[0m\n\u001b[1;32m      9\u001b[0m   \u001b[0;32mdef\u001b[0m \u001b[0mdisplay\u001b[0m \u001b[0;34m(\u001b[0m\u001b[0mself\u001b[0m\u001b[0;34m)\u001b[0m\u001b[0;34m:\u001b[0m\u001b[0;34m\u001b[0m\u001b[0;34m\u001b[0m\u001b[0m\n\u001b[0;32m---> 10\u001b[0;31m     \u001b[0mprint\u001b[0m\u001b[0;34m(\u001b[0m\u001b[0;34m\"The name and color of the car\"\u001b[0m\u001b[0;34m,\u001b[0m\u001b[0mself\u001b[0m\u001b[0;34m.\u001b[0m\u001b[0mdescription\u001b[0m\u001b[0;34m(\u001b[0m\u001b[0;34m)\u001b[0m\u001b[0;34m)\u001b[0m\u001b[0;34m\u001b[0m\u001b[0;34m\u001b[0m\u001b[0m\n\u001b[0m\u001b[1;32m     11\u001b[0m \u001b[0;34m\u001b[0m\u001b[0m\n\u001b[1;32m     12\u001b[0m \u001b[0mobj1\u001b[0m \u001b[0;34m=\u001b[0m \u001b[0mCar\u001b[0m\u001b[0;34m(\u001b[0m\u001b[0;34m\"Toyota\"\u001b[0m\u001b[0;34m,\u001b[0m\u001b[0;34m\"black\"\u001b[0m\u001b[0;34m)\u001b[0m      \u001b[0;31m#to create an object with its attribute values\u001b[0m\u001b[0;34m\u001b[0m\u001b[0;34m\u001b[0m\u001b[0m\n",
            "\u001b[0;32m<ipython-input-3-4fc4b8a6a0b3>\u001b[0m in \u001b[0;36mdescription\u001b[0;34m(self)\u001b[0m\n\u001b[1;32m      5\u001b[0m \u001b[0;34m\u001b[0m\u001b[0m\n\u001b[1;32m      6\u001b[0m   \u001b[0;32mdef\u001b[0m \u001b[0mdescription\u001b[0m\u001b[0;34m(\u001b[0m\u001b[0mself\u001b[0m\u001b[0;34m)\u001b[0m\u001b[0;34m:\u001b[0m\u001b[0;34m\u001b[0m\u001b[0;34m\u001b[0m\u001b[0m\n\u001b[0;32m----> 7\u001b[0;31m     \u001b[0;32mreturn\u001b[0m \u001b[0mself\u001b[0m\u001b[0;34m.\u001b[0m\u001b[0mname\u001b[0m\u001b[0;34m,\u001b[0m \u001b[0mself\u001b[0m\u001b[0;34m.\u001b[0m\u001b[0mcolor\u001b[0m\u001b[0;34m\u001b[0m\u001b[0;34m\u001b[0m\u001b[0m\n\u001b[0m\u001b[1;32m      8\u001b[0m \u001b[0;34m\u001b[0m\u001b[0m\n\u001b[1;32m      9\u001b[0m   \u001b[0;32mdef\u001b[0m \u001b[0mdisplay\u001b[0m \u001b[0;34m(\u001b[0m\u001b[0mself\u001b[0m\u001b[0;34m)\u001b[0m\u001b[0;34m:\u001b[0m\u001b[0;34m\u001b[0m\u001b[0;34m\u001b[0m\u001b[0m\n",
            "\u001b[0;31mAttributeError\u001b[0m: 'Car' object has no attribute 'color'"
          ]
        }
      ]
    },
    {
      "cell_type": "code",
      "source": [
        "obj2 = Car(\"BMW\", \"red\")\n",
        "obj2.display()"
      ],
      "metadata": {
        "colab": {
          "base_uri": "https://localhost:8080/"
        },
        "id": "Ph4mrkcBqQ-n",
        "outputId": "4282bb3a-ad3c-43ed-88d9-edc9294dc0c5"
      },
      "execution_count": 8,
      "outputs": [
        {
          "output_type": "stream",
          "name": "stdout",
          "text": [
            "The name and color of the car ('BMW', 'red')\n"
          ]
        }
      ]
    },
    {
      "cell_type": "markdown",
      "source": [
        "Application 1 - Write a python program to compute the area and perimeter of a rectangle. Use Rectangle as class name, and length and width as attributes"
      ],
      "metadata": {
        "id": "x1FWz8GzsuEV"
      }
    },
    {
      "cell_type": "code",
      "source": [
        "class Rectangle():\n",
        "  def __init__(self,length,width):\n",
        "    self.length = length\n",
        "    self.width = width\n",
        "\n",
        "  def Area(self):\n",
        "    return self.length*self.width\n",
        "\n",
        "  def Perimeter(self):\n",
        "    return 2*(self.length+self.width)\n",
        "\n",
        "  def display(self):\n",
        "    print(\"The area of rectangle is\",self.Area())\n",
        "    print(\"The perimeter of rectangle is\",self.Perimeter)\n",
        "\n",
        "pol = Rectangle(7,4.5)\n",
        "pol.display()"
      ],
      "metadata": {
        "colab": {
          "base_uri": "https://localhost:8080/"
        },
        "id": "1G9qngVzst0Z",
        "outputId": "a847e8d5-280d-418d-ae80-4b6d015f1375"
      },
      "execution_count": 9,
      "outputs": [
        {
          "output_type": "stream",
          "name": "stdout",
          "text": [
            "The area of rectangle is 31.5\n",
            "The perimeter of rectangle is <bound method Rectangle.Perimeter of <__main__.Rectangle object at 0x7fa48ceba210>>\n"
          ]
        }
      ]
    },
    {
      "cell_type": "markdown",
      "source": [
        "Application 2 - Write a python program to display a class name OOP_58001 with your student no. and fullname (Surname, First Name) as attributes"
      ],
      "metadata": {
        "id": "-Jz5O50ksx5w"
      }
    },
    {
      "cell_type": "code",
      "source": [
        "class OOP_58001():\n",
        "  def __init__(self,studentNum,Surname,FirstName):\n",
        "    self.studentNum = studentNum\n",
        "    self.Surname = Surname\n",
        "    self.FirstName = FirstName\n",
        "\n",
        "  def student(self):\n",
        "    return self.Surname + self.FirstName + self.studentNum\n",
        "\n",
        "  def section(self):\n",
        "    print(\"My name is\" ,self.student())\n",
        "\n",
        "  student = OOP_58001(\"202112471 \",\"Yumang\",\",James \")\n",
        "  student.section()\n",
        "\n",
        " "
      ],
      "metadata": {
        "colab": {
          "base_uri": "https://localhost:8080/"
        },
        "id": "VBlzFcL6szjk",
        "outputId": "bf3f78b9-8705-4606-94d2-aab967320e4d"
      },
      "execution_count": 13,
      "outputs": [
        {
          "output_type": "stream",
          "name": "stdout",
          "text": [
            "My name is Yumang,James 202112471 \n"
          ]
        }
      ]
    }
  ]
}