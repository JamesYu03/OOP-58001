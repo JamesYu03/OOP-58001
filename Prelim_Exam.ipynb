{
  "nbformat": 4,
  "nbformat_minor": 0,
  "metadata": {
    "colab": {
      "name": "Prelim Exam.ipynb",
      "provenance": [],
      "authorship_tag": "ABX9TyMJJ/EHXrgvQw0m2cy7H1nL",
      "include_colab_link": true
    },
    "kernelspec": {
      "name": "python3",
      "display_name": "Python 3"
    },
    "language_info": {
      "name": "python"
    }
  },
  "cells": [
    {
      "cell_type": "markdown",
      "metadata": {
        "id": "view-in-github",
        "colab_type": "text"
      },
      "source": [
        "<a href=\"https://colab.research.google.com/github/JamesYu03/OOP-58001/blob/main/Prelim_Exam.ipynb\" target=\"_parent\"><img src=\"https://colab.research.google.com/assets/colab-badge.svg\" alt=\"Open In Colab\"/></a>"
      ]
    },
    {
      "cell_type": "code",
      "execution_count": 2,
      "metadata": {
        "colab": {
          "base_uri": "https://localhost:8080/"
        },
        "id": "9HbLfP6AXEYV",
        "outputId": "b663fa36-5057-47f4-f7db-46584ddd6f0b"
      },
      "outputs": [
        {
          "output_type": "stream",
          "name": "stdout",
          "text": [
            "Yumang, James Beranrd G. 202112471 18Adamson University BS Computer Engineering\n"
          ]
        }
      ],
      "source": [
        "class Student():\n",
        "  def __init__(self,Name,Student_No,Age,School,Course):\n",
        "    self.Name = Name\n",
        "    self.Student_No = Student_No\n",
        "    self.Age = Age\n",
        "    self.School = School\n",
        "    self.Course = Course\n",
        "\n",
        "  def student(self):\n",
        "    return self.Name + self.Student_No + self.Age + self.School + self.Course\n",
        "\n",
        "  def section(self):\n",
        "    print(self.student())\n",
        "\n",
        "myself = Student(\"Yumang, James Beranrd G. \",\"202112471 \",\"18\", \"Adamson University \", \"BS Computer Engineering\")\n",
        "myself.section()"
      ]
    }
  ]
}